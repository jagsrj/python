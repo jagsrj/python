{
 "cells": [
  {
   "cell_type": "markdown",
   "id": "92152c35",
   "metadata": {},
   "source": [
    "## Bike Assignment By Jagadish "
   ]
  },
  {
   "cell_type": "markdown",
   "id": "58b04612",
   "metadata": {},
   "source": [
    "## Pre-requisite - Load Data from CSV into Database"
   ]
  },
  {
   "cell_type": "code",
   "execution_count": 3,
   "id": "ac3c9a95",
   "metadata": {},
   "outputs": [],
   "source": [
    "from sqlalchemy import create_engine\n",
    "import pymysql\n",
    "import pandas as pd\n",
    "import warnings\n",
    "warnings.filterwarnings(\"ignore\")"
   ]
  },
  {
   "cell_type": "code",
   "execution_count": 4,
   "id": "c442afc4",
   "metadata": {},
   "outputs": [],
   "source": [
    "# Open database connection\n",
    "conn = pymysql.connect(\n",
    "        host='localhost',\n",
    "        user='root', \n",
    "        password = \"root\",\n",
    "        db='bike_sharing',\n",
    "        )\n",
    "\n",
    "cur = conn.cursor()"
   ]
  },
  {
   "cell_type": "code",
   "execution_count": 9,
   "id": "18481a86",
   "metadata": {},
   "outputs": [],
   "source": [
    "station = pd.read_csv(\"C:\\\\Users\\\\Jagad\\\\Downloads\\\\Bike Sharing Dataset-20220113T044816Z-001\\\\Bike Sharing Dataset\\\\station.csv\")\n",
    "status = pd.read_csv(\"C:\\\\Users\\\\Jagad\\\\Downloads\\\\Bike Sharing Dataset-20220113T044816Z-001\\\\Bike Sharing Dataset\\\\status.csv\")\n",
    "trip = pd.read_csv(\"C:\\\\Users\\\\Jagad\\\\Downloads\\\\Bike Sharing Dataset-20220113T044816Z-001\\\\Bike Sharing Dataset\\\\trip.csv\")\n",
    "#weather = pd.read_csv(\"C:\\\\Users\\\\Jagad\\\\Downloads\\\\Bike Sharing Dataset-20220113T044816Z-001\\\\Bike Sharing Dataset\\\\weather.csv\")\n",
    "weather = pd.read_csv(\"C:\\\\Users\\\\Jagad\\MS Program\\\\weather.csv\")\n"
   ]
  },
  {
   "cell_type": "code",
   "execution_count": 14,
   "id": "bc9f92c8",
   "metadata": {},
   "outputs": [],
   "source": [
    "# overwriting data after changing format\n",
    "station[\"installation_date\"]= pd.to_datetime(station[\"installation_date\"])\n",
    "station.to_csv('station_updated.csv', index=False)\n",
    "status[\"time\"]= pd.to_datetime(status[\"time\"])\n",
    "status.to_csv('status_updated.csv', index=False)\n",
    "trip[\"start_date\"]= pd.to_datetime(trip[\"start_date\"])\n",
    "trip[\"end_date\"]= pd.to_datetime(trip[\"end_date\"])\n",
    "trip.to_csv('trip_updated.csv', index=False)\n",
    "weather[\"date\"]= pd.to_datetime(weather[\"date\"])\n",
    "weather.to_csv('weather_updated.csv', index=False)"
   ]
  },
  {
   "cell_type": "markdown",
   "id": "84e43a52",
   "metadata": {},
   "source": [
    "## Loaded the 4 files into the database \n",
    "\n",
    "mysql> load data infile 'C:/ProgramData/MySQL/MySQL Server 8.0/Uploads/station_updated.csv' into table station fields terminated by ',' enclosed by '\"' lines terminated by '\\n' ignore 1 rows;\n",
    "Query OK, 70 rows affected (0.04 sec)\n",
    "Records: 70  Deleted: 0  Skipped: 0  Warnings: 0\n",
    "\n",
    "mysql> load data infile 'C:/ProgramData/MySQL/MySQL Server 8.0/Uploads/status_updated.csv' into table status fields terminated by ',' enclosed by '\"' lines terminated by '\\n' ignore 1 rows;\n",
    "Query OK, 71984434 rows affected (21 min 55.21 sec)\n",
    "Records: 71984434  Deleted: 0  Skipped: 0  Warnings: 0\n",
    "\n",
    "mysql> load data infile 'C:/ProgramData/MySQL/MySQL Server 8.0/Uploads/trip_updated.csv' into table trip fields terminated by ',' enclosed by '\"' lines terminated by '\\n' ignore 1 rows;\n",
    "Query OK, 669959 rows affected (19.11 sec)\n",
    "Records: 669959  Deleted: 0  Skipped: 0  Warnings: 0\n",
    "\n",
    "mysql> load data infile 'C:/ProgramData/MySQL/MySQL Server 8.0/Uploads/weather_updated.csv' into table weather fields terminated by ',' enclosed by '\"' lines terminated by '\\n' ignore 1 rows;\n",
    "Query OK, 3665 rows affected (0.17 sec)\n",
    "Records: 3665  Deleted: 0  Skipped: 0  Warnings: 0"
   ]
  },
  {
   "cell_type": "markdown",
   "id": "53f5abcc",
   "metadata": {},
   "source": [
    "## Task 1: Get to Know Your Company"
   ]
  },
  {
   "cell_type": "markdown",
   "id": "669474c5",
   "metadata": {},
   "source": [
    "## Question 1.1 \n",
    "\n",
    "What are the total numbers of:\n",
    "\n",
    "Bike stations?\n",
    "\n",
    "Bikes?\n",
    "\n",
    "Trips?"
   ]
  },
  {
   "cell_type": "code",
   "execution_count": 38,
   "id": "77bd41a1",
   "metadata": {},
   "outputs": [
    {
     "name": "stdout",
     "output_type": "stream",
     "text": [
      "Number of Bike Stations is 70\n",
      "Number of Bikes is 700\n",
      "Number of Bikes is 669959\n"
     ]
    }
   ],
   "source": [
    "# Total Number of Bike Stations\n",
    "cur.execute(\"SELECT count(*) FROM station\")\n",
    "NumBikeStations = cur.fetchone()\n",
    "print(\"Number of Bike Stations is\", NumBikeStations[0])\n",
    "\n",
    "cur.execute(\"select count(distinct bike_id) from trip\")\n",
    "Bikecount = cur.fetchone()\n",
    "print(\"Number of Bikes is\", Bikecount[0])\n",
    "\n",
    "cur.execute(\"select count(*) as TripsCount from trip\")\n",
    "Tripcount = cur.fetchone()\n",
    "print(\"Number of Bikes is\", Tripcount[0])\n",
    "\n"
   ]
  },
  {
   "cell_type": "markdown",
   "id": "31df1cca",
   "metadata": {},
   "source": [
    "## Question 1.3 \n",
    "\n",
    "What is the relationship between the following columns (one to one, many to one, many to many)?\n",
    "\n",
    "bike_id (Trip table) and start_station_id (Trip table)\n",
    "\n",
    "pincode (Weather table) and station location (latitude and longitude in Station table)\n",
    "\n",
    "8/29/2013 (date column in Weather table) and mean wind speed (Weather table)"
   ]
  },
  {
   "cell_type": "markdown",
   "id": "0a1162e6",
   "metadata": {},
   "source": [
    "## Answer 1.3.1\n",
    "\n",
    "1.  bike_id (Trip table) and start_station_id (Trip table) has many to many relationship\n",
    "2. The below two sql shows that one bike can be in many stations and 1 station can have many bikes"
   ]
  },
  {
   "cell_type": "code",
   "execution_count": 59,
   "id": "a8646b01",
   "metadata": {},
   "outputs": [
    {
     "name": "stdout",
     "output_type": "stream",
     "text": [
      "(9, 37)\n",
      "(9, 35)\n",
      "(9, 35)\n",
      "(9, 35)\n",
      "(9, 36)\n"
     ]
    }
   ],
   "source": [
    "# pd.read_sql(\"select bike_id, start_station_id from trip  where bike_id=9 order by bike_id limit 5\", conn)\n",
    "cur.execute(\"select bike_id, start_station_id from trip  where bike_id=9 order by bike_id limit 5\")\n",
    "for row in cur.fetchall():\n",
    "    print(row)"
   ]
  },
  {
   "cell_type": "code",
   "execution_count": 61,
   "id": "913d5f44",
   "metadata": {},
   "outputs": [
    {
     "name": "stdout",
     "output_type": "stream",
     "text": [
      "(37, 9)\n",
      "(37, 95)\n",
      "(37, 20)\n",
      "(37, 15)\n",
      "(37, 100)\n"
     ]
    }
   ],
   "source": [
    "# pd.read_sql(\"select start_station_id, bike_id from trip where start_station_id=37 order by start_station_id limit 5\", conn)\n",
    "cur.execute(\"select start_station_id, bike_id from trip where start_station_id=37 order by start_station_id limit 5\")\n",
    "for row in cur.fetchall():\n",
    "    print(row)"
   ]
  },
  {
   "cell_type": "markdown",
   "id": "5e68033b",
   "metadata": {},
   "source": [
    "## Answer 1.3.2\n",
    "\n",
    "1. There is no relationship between zip code in weather table and latitude and longitude in stations table.\n",
    "However logically one zipcode can have multiple longitude and latitude."
   ]
  },
  {
   "cell_type": "code",
   "execution_count": 62,
   "id": "ef96124e",
   "metadata": {},
   "outputs": [
    {
     "name": "stdout",
     "output_type": "stream",
     "text": [
      "(0, datetime.datetime(2013, 8, 29, 0, 0), 68.0, 75.0, 58.0, 11.0, '94107\\r')\n",
      "(1, datetime.datetime(2013, 8, 30, 0, 0), 69.0, 70.0, 58.0, 13.0, '94107\\r')\n",
      "(2, datetime.datetime(2013, 8, 31, 0, 0), 64.0, 75.0, 56.0, 15.0, '94107\\r')\n",
      "(3, datetime.datetime(2013, 9, 1, 0, 0), 66.0, 68.0, 56.0, 13.0, '94107\\r')\n",
      "(4, datetime.datetime(2013, 9, 2, 0, 0), 69.0, 77.0, 60.0, 12.0, '94107\\r')\n"
     ]
    }
   ],
   "source": [
    "# pd.read_sql(\"select * from weather\", conn)\n",
    "cur.execute(\"select * from weather limit 5\")\n",
    "for row in cur.fetchall():\n",
    "    print(row)"
   ]
  },
  {
   "cell_type": "code",
   "execution_count": 63,
   "id": "a066ec99",
   "metadata": {},
   "outputs": [
    {
     "name": "stdout",
     "output_type": "stream",
     "text": [
      "(2, 'San Jose Diridon Caltrain Station', 37.3297, -121.902, 27, 'San Jose', datetime.datetime(2013, 8, 6, 0, 0))\n",
      "(3, 'San Jose Civic Center', 37.3307, -121.889, 15, 'San Jose', datetime.datetime(2013, 8, 5, 0, 0))\n",
      "(4, 'Santa Clara at Almaden', 37.334, -121.895, 11, 'San Jose', datetime.datetime(2013, 8, 6, 0, 0))\n",
      "(5, 'Adobe on Almaden', 37.3314, -121.893, 19, 'San Jose', datetime.datetime(2013, 8, 5, 0, 0))\n",
      "(6, 'San Pedro Square', 37.3367, -121.894, 15, 'San Jose', datetime.datetime(2013, 8, 7, 0, 0))\n"
     ]
    }
   ],
   "source": [
    "# pd.read_sql(\"select * from weather\", conn)\n",
    "cur.execute(\"select * from station limit 5\")\n",
    "for row in cur.fetchall():\n",
    "    print(row)"
   ]
  },
  {
   "cell_type": "markdown",
   "id": "a92cb3a5",
   "metadata": {},
   "source": [
    "## Answer 1.3.3\n",
    "\n",
    "1. The below 2 SQL shows that date and windspeed has many to many relationship"
   ]
  },
  {
   "cell_type": "code",
   "execution_count": 67,
   "id": "158ef80f",
   "metadata": {},
   "outputs": [
    {
     "name": "stdout",
     "output_type": "stream",
     "text": [
      "(datetime.datetime(2013, 8, 29, 0, 0), 11.0)\n",
      "(datetime.datetime(2013, 8, 29, 0, 0), 5.0)\n",
      "(datetime.datetime(2013, 8, 29, 0, 0), 8.0)\n",
      "(datetime.datetime(2013, 8, 29, 0, 0), 7.0)\n",
      "(datetime.datetime(2013, 8, 29, 0, 0), 6.0)\n"
     ]
    }
   ],
   "source": [
    "# pd.read_sql(\"select * from weather where date='8/29/2013' order by date limit 5\", conn)\n",
    "# pd.read_sql(\"select * from weather where date='8/29/2013' order by mean_wind_speed_mph limit 5\", conn)\n",
    "\n",
    "cur.execute(\"select date, mean_wind_speed_mph from weather order by date limit 5\")\n",
    "for row in cur.fetchall():\n",
    "    print(row)"
   ]
  },
  {
   "cell_type": "markdown",
   "id": "5d3da7c9",
   "metadata": {},
   "source": [
    "## Answer 1.4"
   ]
  },
  {
   "cell_type": "code",
   "execution_count": 42,
   "id": "5f1151ae",
   "metadata": {},
   "outputs": [
    {
     "name": "stdout",
     "output_type": "stream",
     "text": [
      "************************************************************************************************************\n",
      "First Trip in Trip Table is  (4069, 174, datetime.datetime(2013, 8, 29, 9, 8), '2nd at South Park', 64, datetime.datetime(2013, 8, 29, 9, 11), '2nd at South Park', 64, 288, 'Subscriber', '94114\\r')\n",
      "************************************************************************************************************\n",
      "Last Trip in Trip Table is  (913460, 765, datetime.datetime(2015, 8, 31, 23, 26), 'Harry Bridges Plaza (Ferry Building)', 50, datetime.datetime(2015, 8, 31, 23, 39), 'San Francisco Caltrain (Townsend at 4th)', 70, 288, 'Subscriber', '2139\\r')\n",
      "************************************************************************************************************\n"
     ]
    }
   ],
   "source": [
    "# pd.read_sql(\"select id as FirstTripID from trip order by start_date asc limit 1\", conn)\n",
    "# pd.read_sql(\"select id as LastTripID from trip order by end_date desc limit 1\", conn)\n",
    "\n",
    "cur.execute(\"select * from trip order by start_date asc limit 1\")\n",
    "firstTrip = cur.fetchone()\n",
    "print(\"************************************************************************************************************\")  \n",
    "print(\"First Trip in Trip Table is \", firstTrip)\n",
    "\n",
    "cur.execute(\"select * from trip order by start_date desc limit 1\")\n",
    "lastTrip = cur.fetchone()\n",
    "print(\"************************************************************************************************************\")  \n",
    "print(\"Last Trip in Trip Table is \", lastTrip)\n",
    "print(\"************************************************************************************************************\")  \n"
   ]
  },
  {
   "cell_type": "markdown",
   "id": "9fcef750",
   "metadata": {},
   "source": [
    "## Answer 1.5"
   ]
  },
  {
   "cell_type": "code",
   "execution_count": 44,
   "id": "d3bfca64",
   "metadata": {},
   "outputs": [
    {
     "name": "stdout",
     "output_type": "stream",
     "text": [
      "************************************************************************************************************\n",
      "Average Duration of all Trips is :  1107.9498\n",
      "************************************************************************************************************\n",
      "Average duration of trips where start and end station is same :  6357.4011\n",
      "************************************************************************************************************\n"
     ]
    }
   ],
   "source": [
    "# pd.read_sql(\"select avg(duration) as AverageTripDuration from trip\", conn)\n",
    "# pd.read_sql(\"select avg(duration) as AverageTripDuration from trip where start_station_name=end_station_name\", conn)\n",
    "\n",
    "cur.execute(\"select avg(duration) as AverageTripDuration from trip\")\n",
    "AvgAllTrips = cur.fetchone()\n",
    "print(\"************************************************************************************************************\")  \n",
    "print(\"Average Duration of all Trips is : \", AvgAllTrips[0])\n",
    "\n",
    "cur.execute(\"select avg(duration) as AverageTripDuration from trip where start_station_name=end_station_name\")\n",
    "AvgStartFinishSame = cur.fetchone()\n",
    "print(\"************************************************************************************************************\")  \n",
    "print(\"Average duration of trips where start and end station is same : \", AvgStartFinishSame[0])\n",
    "print(\"************************************************************************************************************\")  "
   ]
  },
  {
   "cell_type": "markdown",
   "id": "19e5ae1c",
   "metadata": {},
   "source": [
    "## Answer 1.6"
   ]
  },
  {
   "cell_type": "code",
   "execution_count": 45,
   "id": "415eeb91",
   "metadata": {},
   "outputs": [
    {
     "name": "stdout",
     "output_type": "stream",
     "text": [
      "Most used bike in terms of duration (with BIKE ID is ) :  535\n"
     ]
    }
   ],
   "source": [
    "# pd.read_sql(\"select bike_id, sum(duration) from trip group by bike_id order by sum(duration) desc limit 3\", conn)\n",
    "cur.execute(\"select bike_id, sum(duration) from trip group by bike_id order by sum(duration) desc limit 1\")\n",
    "MostUsed = cur.fetchone()\n",
    "print(\"Most used bike in terms of duration (with BIKE ID is ) : \", MostUsed[0])"
   ]
  },
  {
   "cell_type": "code",
   "execution_count": 57,
   "id": "0b6104e0",
   "metadata": {},
   "outputs": [],
   "source": [
    "## Answers for 1.2 and 1.7 is in Tableau "
   ]
  },
  {
   "cell_type": "markdown",
   "id": "c1dfe934",
   "metadata": {},
   "source": [
    "## Task 2 - Demand Prediction"
   ]
  },
  {
   "cell_type": "markdown",
   "id": "ce667552",
   "metadata": {},
   "source": [
    "## Answer 2.1"
   ]
  },
  {
   "cell_type": "code",
   "execution_count": 80,
   "id": "bbd527cb",
   "metadata": {},
   "outputs": [],
   "source": [
    "#What are the top 10 least popular stations? Hint: Find the least frequently appearing start stations from the Trip table"
   ]
  },
  {
   "cell_type": "code",
   "execution_count": 82,
   "id": "9217963d",
   "metadata": {},
   "outputs": [
    {
     "name": "stdout",
     "output_type": "stream",
     "text": [
      "Top 10 least popular stations are : \n",
      "San Jose Government Center\n",
      "Broadway at Main\n",
      "Redwood City Public Library\n",
      "Franklin at Maple\n",
      "San Mateo County Center\n",
      "Redwood City Medical Center\n",
      "Mezes Park\n",
      "Stanford in Redwood City\n",
      "Park at Olive\n",
      "Santa Clara County Civic Center\n"
     ]
    }
   ],
   "source": [
    "# pd.read_sql(\"select start_station_name, count(*) from trip group by start_station_name order by count(*) asc limit 10\", conn)\n",
    "cur.execute(\"select start_station_name, count(*) from trip group by start_station_name order by count(*) asc limit 10\")\n",
    "print(\"Top 10 least popular stations are : \")\n",
    "for row in cur.fetchall():\n",
    "    #print(\"************************************************************************************************************\")  \n",
    "    print(row[0])\n"
   ]
  },
  {
   "cell_type": "markdown",
   "id": "2bb22555",
   "metadata": {},
   "source": [
    "## Answer 2.2"
   ]
  },
  {
   "cell_type": "code",
   "execution_count": 83,
   "id": "213bbfd0",
   "metadata": {},
   "outputs": [],
   "source": [
    "# Find the idle time for Station 2 on 29 July, 2018"
   ]
  },
  {
   "cell_type": "code",
   "execution_count": 56,
   "id": "4e55622e",
   "metadata": {},
   "outputs": [
    {
     "name": "stdout",
     "output_type": "stream",
     "text": [
      "Number of idle bikes greater than 3 in station 2 for July-29-2018 is  0\n"
     ]
    }
   ],
   "source": [
    "# select bikes_available, time  from status where station_id=2 and bikes_available>3 and time >='2018-07-29 00:00:00' and time <= '2018-07-30 00:00:00'\n",
    "cur.execute(\"select count(*) from status where station_id=2 and bikes_available>3 and time >='2018-07-29 00:00:00' and time <= '2018-07-30 00:00:00'\")\n",
    "NumofIdleBikes = cur.fetchone()\n",
    "print(\"Number of idle bikes greater than 3 in station 2 for July-29-2018 is \", NumofIdleBikes[0])\n",
    "cur.execute(\"select bikes_available, time  from status where station_id=2 and bikes_available>3 and time >='2018-07-29 00:00:00' and time <= '2018-07-30 00:00:00'\")\n",
    "for row in cur.fetchall():\n",
    "    #print(\"************************************************************************************************************\")  \n",
    "    print(row)"
   ]
  },
  {
   "cell_type": "markdown",
   "id": "74902d6a",
   "metadata": {},
   "source": [
    "Answer 2.2 : The data set does not contain data for July 29 2018"
   ]
  },
  {
   "cell_type": "markdown",
   "id": "c8f3ab63",
   "metadata": {},
   "source": [
    "## Answer 2.3 "
   ]
  },
  {
   "cell_type": "code",
   "execution_count": 1,
   "id": "08fa732e",
   "metadata": {},
   "outputs": [],
   "source": [
    "# Find the distance between consecutive stations (between Stations 1 and 2, Stations 2 and 3, and so on)."
   ]
  },
  {
   "cell_type": "code",
   "execution_count": 5,
   "id": "f146c0d5",
   "metadata": {},
   "outputs": [],
   "source": [
    "import sqlite3\n",
    "sqlliteconn = sqlite3.connect(database=\"bikeassignment.db\")"
   ]
  },
  {
   "cell_type": "code",
   "execution_count": 6,
   "id": "77e0f7ae",
   "metadata": {},
   "outputs": [],
   "source": [
    "stationdf = pd.read_sql(\"select station_name, latitude, longitude from station\", conn)\n",
    "stations_list = stationdf.values.tolist()"
   ]
  },
  {
   "cell_type": "code",
   "execution_count": 7,
   "id": "06fa2969",
   "metadata": {},
   "outputs": [],
   "source": [
    "from math import cos, asin, sqrt, pi\n",
    "\n",
    "def distance(lat1, lon1, lat2, lon2):\n",
    "    p = pi/180\n",
    "    a = 0.5 - cos((lat2-lat1)*p)/2 + cos(lat1*p) * cos(lat2*p) * (1-cos((lon2-lon1)*p))/2\n",
    "    return 12742 * asin(sqrt(a)) #2*R*asin..."
   ]
  },
  {
   "cell_type": "code",
   "execution_count": 8,
   "id": "98fec7cc",
   "metadata": {},
   "outputs": [],
   "source": [
    "DistanceinKMList = []\n",
    "\n",
    "for i in range(0, len(stations_list)-1):\n",
    "    lat1, lon1 = stations_list[i][1], stations_list[i][2]\n",
    "    lat2, lon2 = stations_list[i+1][1], stations_list[i+1][2]\n",
    "    distanceinKM = distance(lat1, lon1, lat2, lon2)\n",
    "    #print(\"Distance in Kilo meters in \", distanceinKM)\n",
    "    DistanceinKMList.append([stations_list[i][0], stations_list[i+1][0], distanceinKM ])"
   ]
  },
  {
   "cell_type": "code",
   "execution_count": 10,
   "id": "92135ad2",
   "metadata": {},
   "outputs": [],
   "source": [
    "Distance = pd.DataFrame(DistanceinKMList, columns = ['StationN1', 'StationN2', 'DistanceinKM'])"
   ]
  },
  {
   "cell_type": "code",
   "execution_count": 11,
   "id": "1fd436a3",
   "metadata": {},
   "outputs": [],
   "source": [
    "#Distance\n",
    "Distance.to_sql(\"Distance\",sqlliteconn, if_exists=\"replace\", index=False )"
   ]
  },
  {
   "cell_type": "code",
   "execution_count": 12,
   "id": "72dad0f1",
   "metadata": {},
   "outputs": [
    {
     "data": {
      "text/html": [
       "<div>\n",
       "<style scoped>\n",
       "    .dataframe tbody tr th:only-of-type {\n",
       "        vertical-align: middle;\n",
       "    }\n",
       "\n",
       "    .dataframe tbody tr th {\n",
       "        vertical-align: top;\n",
       "    }\n",
       "\n",
       "    .dataframe thead th {\n",
       "        text-align: right;\n",
       "    }\n",
       "</style>\n",
       "<table border=\"1\" class=\"dataframe\">\n",
       "  <thead>\n",
       "    <tr style=\"text-align: right;\">\n",
       "      <th></th>\n",
       "      <th>StationN1</th>\n",
       "      <th>StationN2</th>\n",
       "      <th>DistanceinKM</th>\n",
       "    </tr>\n",
       "  </thead>\n",
       "  <tbody>\n",
       "    <tr>\n",
       "      <th>0</th>\n",
       "      <td>San Francisco Caltrain 2 (330 Townsend)</td>\n",
       "      <td>San Francisco Caltrain (Townsend at 4th)</td>\n",
       "      <td>0.000000</td>\n",
       "    </tr>\n",
       "    <tr>\n",
       "      <th>1</th>\n",
       "      <td>Palo Alto Caltrain Station</td>\n",
       "      <td>University and Emerson</td>\n",
       "      <td>0.185112</td>\n",
       "    </tr>\n",
       "    <tr>\n",
       "      <th>2</th>\n",
       "      <td>San Jose City Hall</td>\n",
       "      <td>MLK Library</td>\n",
       "      <td>0.188775</td>\n",
       "    </tr>\n",
       "    <tr>\n",
       "      <th>3</th>\n",
       "      <td>Commercial at Montgomery</td>\n",
       "      <td>Washington at Kearney</td>\n",
       "      <td>0.220652</td>\n",
       "    </tr>\n",
       "    <tr>\n",
       "      <th>4</th>\n",
       "      <td>Redwood City Caltrain Station</td>\n",
       "      <td>San Mateo County Center</td>\n",
       "      <td>0.242816</td>\n",
       "    </tr>\n",
       "    <tr>\n",
       "      <th>5</th>\n",
       "      <td>2nd at Folsom</td>\n",
       "      <td>Howard at 2nd</td>\n",
       "      <td>0.258114</td>\n",
       "    </tr>\n",
       "    <tr>\n",
       "      <th>6</th>\n",
       "      <td>South Van Ness at Market</td>\n",
       "      <td>Market at 10th</td>\n",
       "      <td>0.266381</td>\n",
       "    </tr>\n",
       "    <tr>\n",
       "      <th>7</th>\n",
       "      <td>Clay at Battery</td>\n",
       "      <td>Davis at Jackson</td>\n",
       "      <td>0.310304</td>\n",
       "    </tr>\n",
       "    <tr>\n",
       "      <th>8</th>\n",
       "      <td>San Francisco City Hall</td>\n",
       "      <td>Golden Gate at Polk</td>\n",
       "      <td>0.312825</td>\n",
       "    </tr>\n",
       "    <tr>\n",
       "      <th>9</th>\n",
       "      <td>Temporary Transbay Terminal (Howard at Beale)</td>\n",
       "      <td>Beale at Market</td>\n",
       "      <td>0.328881</td>\n",
       "    </tr>\n",
       "    <tr>\n",
       "      <th>10</th>\n",
       "      <td>Santa Clara at Almaden</td>\n",
       "      <td>Adobe on Almaden</td>\n",
       "      <td>0.338897</td>\n",
       "    </tr>\n",
       "    <tr>\n",
       "      <th>11</th>\n",
       "      <td>MLK Library</td>\n",
       "      <td>SJSU 4th at San Carlos</td>\n",
       "      <td>0.387412</td>\n",
       "    </tr>\n",
       "    <tr>\n",
       "      <th>12</th>\n",
       "      <td>Paseo de San Antonio</td>\n",
       "      <td>San Salvador at 1st</td>\n",
       "      <td>0.409950</td>\n",
       "    </tr>\n",
       "    <tr>\n",
       "      <th>13</th>\n",
       "      <td>San Mateo County Center</td>\n",
       "      <td>Redwood City Public Library</td>\n",
       "      <td>0.461517</td>\n",
       "    </tr>\n",
       "    <tr>\n",
       "      <th>14</th>\n",
       "      <td>Harry Bridges Plaza (Ferry Building)</td>\n",
       "      <td>Embarcadero at Folsom</td>\n",
       "      <td>0.507494</td>\n",
       "    </tr>\n",
       "    <tr>\n",
       "      <th>15</th>\n",
       "      <td>Market at 4th</td>\n",
       "      <td>Market at Sansome</td>\n",
       "      <td>0.508135</td>\n",
       "    </tr>\n",
       "    <tr>\n",
       "      <th>16</th>\n",
       "      <td>Steuart at Market</td>\n",
       "      <td>Mechanics Plaza (Market at Battery)</td>\n",
       "      <td>0.538483</td>\n",
       "    </tr>\n",
       "    <tr>\n",
       "      <th>17</th>\n",
       "      <td>Embarcadero at Folsom</td>\n",
       "      <td>Embarcadero at Bryant</td>\n",
       "      <td>0.545997</td>\n",
       "    </tr>\n",
       "    <tr>\n",
       "      <th>18</th>\n",
       "      <td>Davis at Jackson</td>\n",
       "      <td>Commercial at Montgomery</td>\n",
       "      <td>0.558420</td>\n",
       "    </tr>\n",
       "    <tr>\n",
       "      <th>19</th>\n",
       "      <td>Adobe on Almaden</td>\n",
       "      <td>San Pedro Square</td>\n",
       "      <td>0.595928</td>\n",
       "    </tr>\n",
       "  </tbody>\n",
       "</table>\n",
       "</div>"
      ],
      "text/plain": [
       "                                        StationN1  \\\n",
       "0         San Francisco Caltrain 2 (330 Townsend)   \n",
       "1                      Palo Alto Caltrain Station   \n",
       "2                              San Jose City Hall   \n",
       "3                        Commercial at Montgomery   \n",
       "4                   Redwood City Caltrain Station   \n",
       "5                                   2nd at Folsom   \n",
       "6                        South Van Ness at Market   \n",
       "7                                 Clay at Battery   \n",
       "8                         San Francisco City Hall   \n",
       "9   Temporary Transbay Terminal (Howard at Beale)   \n",
       "10                         Santa Clara at Almaden   \n",
       "11                                    MLK Library   \n",
       "12                           Paseo de San Antonio   \n",
       "13                        San Mateo County Center   \n",
       "14           Harry Bridges Plaza (Ferry Building)   \n",
       "15                                  Market at 4th   \n",
       "16                              Steuart at Market   \n",
       "17                          Embarcadero at Folsom   \n",
       "18                               Davis at Jackson   \n",
       "19                               Adobe on Almaden   \n",
       "\n",
       "                                   StationN2  DistanceinKM  \n",
       "0   San Francisco Caltrain (Townsend at 4th)      0.000000  \n",
       "1                     University and Emerson      0.185112  \n",
       "2                                MLK Library      0.188775  \n",
       "3                      Washington at Kearney      0.220652  \n",
       "4                    San Mateo County Center      0.242816  \n",
       "5                              Howard at 2nd      0.258114  \n",
       "6                             Market at 10th      0.266381  \n",
       "7                           Davis at Jackson      0.310304  \n",
       "8                        Golden Gate at Polk      0.312825  \n",
       "9                            Beale at Market      0.328881  \n",
       "10                          Adobe on Almaden      0.338897  \n",
       "11                    SJSU 4th at San Carlos      0.387412  \n",
       "12                       San Salvador at 1st      0.409950  \n",
       "13               Redwood City Public Library      0.461517  \n",
       "14                     Embarcadero at Folsom      0.507494  \n",
       "15                         Market at Sansome      0.508135  \n",
       "16       Mechanics Plaza (Market at Battery)      0.538483  \n",
       "17                     Embarcadero at Bryant      0.545997  \n",
       "18                  Commercial at Montgomery      0.558420  \n",
       "19                          San Pedro Square      0.595928  "
      ]
     },
     "execution_count": 12,
     "metadata": {},
     "output_type": "execute_result"
    }
   ],
   "source": [
    "#Distance between two consecutive stations is provided in ascending order\n",
    "pd.read_sql(\"select * from Distance  order by DistanceinKM asc limit 20\", sqlliteconn)"
   ]
  },
  {
   "cell_type": "markdown",
   "id": "5163b049",
   "metadata": {},
   "source": [
    "\tStationN1\tStationN2\tDistanceinKM\n",
    "0\tSan Francisco Caltrain 2 (330 Townsend)\tSan Francisco Caltrain (Townsend at 4th)\t0.000000\n",
    "\n",
    "1\tPalo Alto Caltrain Station\tUniversity and Emerson\t0.185112\n",
    "\n",
    "2\tSan Jose City Hall\tMLK Library\t0.188775\n",
    "\n",
    "3\tCommercial at Montgomery\tWashington at Kearney\t0.220652\n",
    "\n",
    "4\tRedwood City Caltrain Station\tSan Mateo County Center\t0.242816\n",
    "\n",
    "5\t2nd at Folsom\tHoward at 2nd\t0.258114\n",
    "\n",
    "6\tSouth Van Ness at Market\tMarket at 10th\t0.266381\n",
    "\n",
    "7\tClay at Battery\tDavis at Jackson\t0.310304\n",
    "\n",
    "8\tSan Francisco City Hall\tGolden Gate at Polk\t0.312825\n",
    "\n",
    "9\tTemporary Transbay Terminal (Howard at Beale)\tBeale at Market\t0.328881\n",
    "\n",
    "10\tSanta Clara at Almaden\tAdobe on Almaden\t0.338897\n",
    "\n",
    "11\tMLK Library\tSJSU 4th at San Carlos\t0.387412\n",
    "\n",
    "12\tPaseo de San Antonio\tSan Salvador at 1st\t0.409950\n",
    "\n",
    "13\tSan Mateo County Center\tRedwood City Public Library\t0.461517\n",
    "\n",
    "14\tHarry Bridges Plaza (Ferry Building)\tEmbarcadero at Folsom\t0.507494\n",
    "\n",
    "15\tMarket at 4th\tMarket at Sansome\t0.508135\n",
    "\n",
    "16\tSteuart at Market\tMechanics Plaza (Market at Battery)\t0.538483\n",
    "\n",
    "17\tEmbarcadero at Folsom\tEmbarcadero at Bryant\t0.545997\n",
    "\n",
    "18\tDavis at Jackson\tCommercial at Montgomery\t0.558420\n",
    "\n",
    "19\tAdobe on Almaden\tSan Pedro Square\t0.595928"
   ]
  },
  {
   "cell_type": "markdown",
   "id": "32fcccca",
   "metadata": {},
   "source": [
    "## Answer 2.4"
   ]
  },
  {
   "cell_type": "code",
   "execution_count": 27,
   "id": "377f60be",
   "metadata": {},
   "outputs": [
    {
     "data": {
      "text/html": [
       "<div>\n",
       "<style scoped>\n",
       "    .dataframe tbody tr th:only-of-type {\n",
       "        vertical-align: middle;\n",
       "    }\n",
       "\n",
       "    .dataframe tbody tr th {\n",
       "        vertical-align: top;\n",
       "    }\n",
       "\n",
       "    .dataframe thead th {\n",
       "        text-align: right;\n",
       "    }\n",
       "</style>\n",
       "<table border=\"1\" class=\"dataframe\">\n",
       "  <thead>\n",
       "    <tr style=\"text-align: right;\">\n",
       "      <th></th>\n",
       "      <th>start_station_name</th>\n",
       "      <th>Popularity</th>\n",
       "    </tr>\n",
       "  </thead>\n",
       "  <tbody>\n",
       "    <tr>\n",
       "      <th>0</th>\n",
       "      <td>San Jose Government Center</td>\n",
       "      <td>23</td>\n",
       "    </tr>\n",
       "    <tr>\n",
       "      <th>1</th>\n",
       "      <td>Broadway at Main</td>\n",
       "      <td>67</td>\n",
       "    </tr>\n",
       "    <tr>\n",
       "      <th>2</th>\n",
       "      <td>Redwood City Public Library</td>\n",
       "      <td>213</td>\n",
       "    </tr>\n",
       "    <tr>\n",
       "      <th>3</th>\n",
       "      <td>Franklin at Maple</td>\n",
       "      <td>224</td>\n",
       "    </tr>\n",
       "    <tr>\n",
       "      <th>4</th>\n",
       "      <td>San Mateo County Center</td>\n",
       "      <td>287</td>\n",
       "    </tr>\n",
       "    <tr>\n",
       "      <th>...</th>\n",
       "      <td>...</td>\n",
       "      <td>...</td>\n",
       "    </tr>\n",
       "    <tr>\n",
       "      <th>69</th>\n",
       "      <td>Temporary Transbay Terminal (Howard at Beale)</td>\n",
       "      <td>26089</td>\n",
       "    </tr>\n",
       "    <tr>\n",
       "      <th>70</th>\n",
       "      <td>Embarcadero at Sansome</td>\n",
       "      <td>27713</td>\n",
       "    </tr>\n",
       "    <tr>\n",
       "      <th>71</th>\n",
       "      <td>Harry Bridges Plaza (Ferry Building)</td>\n",
       "      <td>32934</td>\n",
       "    </tr>\n",
       "    <tr>\n",
       "      <th>72</th>\n",
       "      <td>San Francisco Caltrain 2 (330 Townsend)</td>\n",
       "      <td>33742</td>\n",
       "    </tr>\n",
       "    <tr>\n",
       "      <th>73</th>\n",
       "      <td>San Francisco Caltrain (Townsend at 4th)</td>\n",
       "      <td>49092</td>\n",
       "    </tr>\n",
       "  </tbody>\n",
       "</table>\n",
       "<p>74 rows × 2 columns</p>\n",
       "</div>"
      ],
      "text/plain": [
       "                               start_station_name  Popularity\n",
       "0                      San Jose Government Center          23\n",
       "1                                Broadway at Main          67\n",
       "2                     Redwood City Public Library         213\n",
       "3                               Franklin at Maple         224\n",
       "4                         San Mateo County Center         287\n",
       "..                                            ...         ...\n",
       "69  Temporary Transbay Terminal (Howard at Beale)       26089\n",
       "70                         Embarcadero at Sansome       27713\n",
       "71           Harry Bridges Plaza (Ferry Building)       32934\n",
       "72        San Francisco Caltrain 2 (330 Townsend)       33742\n",
       "73       San Francisco Caltrain (Townsend at 4th)       49092\n",
       "\n",
       "[74 rows x 2 columns]"
      ]
     },
     "execution_count": 27,
     "metadata": {},
     "output_type": "execute_result"
    }
   ],
   "source": [
    "# Find the least popular stations\n",
    "pd.read_sql(\"select start_station_name, count(*) as Popularity from trip group by start_station_name order by Popularity asc\", conn)"
   ]
  },
  {
   "cell_type": "code",
   "execution_count": 58,
   "id": "5729ca4b",
   "metadata": {},
   "outputs": [
    {
     "data": {
      "text/html": [
       "<div>\n",
       "<style scoped>\n",
       "    .dataframe tbody tr th:only-of-type {\n",
       "        vertical-align: middle;\n",
       "    }\n",
       "\n",
       "    .dataframe tbody tr th {\n",
       "        vertical-align: top;\n",
       "    }\n",
       "\n",
       "    .dataframe thead th {\n",
       "        text-align: right;\n",
       "    }\n",
       "</style>\n",
       "<table border=\"1\" class=\"dataframe\">\n",
       "  <thead>\n",
       "    <tr style=\"text-align: right;\">\n",
       "      <th></th>\n",
       "      <th>StationN1</th>\n",
       "      <th>StationN2</th>\n",
       "      <th>DistanceinKM</th>\n",
       "    </tr>\n",
       "  </thead>\n",
       "  <tbody>\n",
       "    <tr>\n",
       "      <th>0</th>\n",
       "      <td>Franklin at Maple</td>\n",
       "      <td>Redwood City Caltrain Station</td>\n",
       "      <td>0.650581</td>\n",
       "    </tr>\n",
       "    <tr>\n",
       "      <th>1</th>\n",
       "      <td>Redwood City Public Library</td>\n",
       "      <td>Stanford in Redwood City</td>\n",
       "      <td>2.121835</td>\n",
       "    </tr>\n",
       "  </tbody>\n",
       "</table>\n",
       "</div>"
      ],
      "text/plain": [
       "                     StationN1                      StationN2  DistanceinKM\n",
       "0            Franklin at Maple  Redwood City Caltrain Station      0.650581\n",
       "1  Redwood City Public Library       Stanford in Redwood City      2.121835"
      ]
     },
     "execution_count": 58,
     "metadata": {},
     "output_type": "execute_result"
    }
   ],
   "source": [
    "# Find the distance between the top 4 least popular stations \n",
    "pd.read_sql(\"select * from Distance  where StationN1 in ('San Jose Government Center', 'Broadway at Main', 'Redwood City Public Library', 'Franklin at Maple') \", sqlliteconn)"
   ]
  },
  {
   "cell_type": "code",
   "execution_count": 59,
   "id": "6647dba0",
   "metadata": {},
   "outputs": [
    {
     "data": {
      "text/html": [
       "<div>\n",
       "<style scoped>\n",
       "    .dataframe tbody tr th:only-of-type {\n",
       "        vertical-align: middle;\n",
       "    }\n",
       "\n",
       "    .dataframe tbody tr th {\n",
       "        vertical-align: top;\n",
       "    }\n",
       "\n",
       "    .dataframe thead th {\n",
       "        text-align: right;\n",
       "    }\n",
       "</style>\n",
       "<table border=\"1\" class=\"dataframe\">\n",
       "  <thead>\n",
       "    <tr style=\"text-align: right;\">\n",
       "      <th></th>\n",
       "      <th>StationN1</th>\n",
       "      <th>StationN2</th>\n",
       "      <th>DistanceinKM</th>\n",
       "    </tr>\n",
       "  </thead>\n",
       "  <tbody>\n",
       "    <tr>\n",
       "      <th>0</th>\n",
       "      <td>SJSU - San Salvador at 9th</td>\n",
       "      <td>Franklin at Maple</td>\n",
       "      <td>35.010941</td>\n",
       "    </tr>\n",
       "    <tr>\n",
       "      <th>1</th>\n",
       "      <td>San Mateo County Center</td>\n",
       "      <td>Redwood City Public Library</td>\n",
       "      <td>0.461517</td>\n",
       "    </tr>\n",
       "  </tbody>\n",
       "</table>\n",
       "</div>"
      ],
      "text/plain": [
       "                    StationN1                    StationN2  DistanceinKM\n",
       "0  SJSU - San Salvador at 9th            Franklin at Maple     35.010941\n",
       "1     San Mateo County Center  Redwood City Public Library      0.461517"
      ]
     },
     "execution_count": 59,
     "metadata": {},
     "output_type": "execute_result"
    }
   ],
   "source": [
    "# Find the distance between the top 4 least popular stations \n",
    "pd.read_sql(\"select * from Distance  where StationN2 in ('San Jose Government Center', 'Broadway at Main', 'Redwood City Public Library', 'Franklin at Maple') \", sqlliteconn)"
   ]
  },
  {
   "cell_type": "markdown",
   "id": "cae8121d",
   "metadata": {},
   "source": [
    "## Answer -  I would close the follwing 3 stations - \n",
    "#1. \"Franklin at Maple\" can be closed as it is less popular than Redwood city and these two stations are nearby\n",
    "#2. \"Redwood City Public Library\" can be closed as it is less popular than \"Standford in Redwood City \"and they are close by \n",
    "#3. \"San Mateo county center\" can be closed as it is less popular and it is close to \"Stanford in Redwood City\""
   ]
  },
  {
   "cell_type": "markdown",
   "id": "35b353cd",
   "metadata": {},
   "source": [
    "## Task 3 - Optimizing Operations"
   ]
  },
  {
   "cell_type": "markdown",
   "id": "0b0e2973",
   "metadata": {},
   "source": [
    "## Answer 3.1\n",
    "Calculate the average number of bikes and docks available for Station 2 and Station 3 (Hint: Use the Status table.)"
   ]
  },
  {
   "cell_type": "code",
   "execution_count": 37,
   "id": "776da004",
   "metadata": {},
   "outputs": [
    {
     "name": "stdout",
     "output_type": "stream",
     "text": [
      "For Station 2 : Average Bikes available is :  13.1726\n",
      "For Station 2 : Average Docks available is :  13.7615\n",
      "For Station 3 : Average Bikes available is :  8.4611\n",
      "For Station 3 : Average Docks available is :  6.5279\n"
     ]
    }
   ],
   "source": [
    "#Station2 = pd.read_sql(\"select avg(bikes_available), avg(docks_available) from status where station_id=2\", conn)\n",
    "#Station3 = pd.read_sql(\"select avg(bikes_available), avg(docks_available) from status where station_id=3\", conn)\n",
    "\n",
    "cur.execute(\"select avg(bikes_available), avg(docks_available) from status where station_id=2\")\n",
    "Station2 = cur.fetchone()\n",
    "print(\"For Station 2 : Average Bikes available is : \", Station2[0])\n",
    "print(\"For Station 2 : Average Docks available is : \", Station2[1])\n",
    "\n",
    "cur.execute(\"select avg(bikes_available), avg(docks_available) from status where station_id=3\")\n",
    "Station3 = cur.fetchone()\n",
    "print(\"For Station 3 : Average Bikes available is : \", Station3[0])\n",
    "print(\"For Station 3 : Average Docks available is : \", Station3[1])\n"
   ]
  },
  {
   "cell_type": "markdown",
   "id": "4055b5d3",
   "metadata": {},
   "source": [
    "## Answers for 3.2 and 3.3 is in Tableau\n"
   ]
  },
  {
   "cell_type": "markdown",
   "id": "0260fb70",
   "metadata": {},
   "source": [
    "## Answer 3.4"
   ]
  },
  {
   "cell_type": "markdown",
   "id": "27ffcacc",
   "metadata": {},
   "source": [
    "North of San Francisco is the most popular station (shown with bigger circles in tableau in 3.2). \n",
    "\n",
    "The peak business hours is from 7 AM to 9 AM and between 4 PM to 6 PM (shown in Tree graph in Tableau). \n",
    "\n",
    "Recommendations is to keep more bikes available in the popular locations between the peak business hours. \n"
   ]
  },
  {
   "cell_type": "markdown",
   "id": "a418bcce",
   "metadata": {},
   "source": [
    "## Task 4: Couple Bikes"
   ]
  },
  {
   "cell_type": "code",
   "execution_count": 60,
   "id": "c7b422d3",
   "metadata": {},
   "outputs": [],
   "source": [
    "# Zulip has decided to start a new product line called Couple Bikes.\n",
    "# This will enable two persons to travel from one station to another at the same time. \n",
    "# What are some of the factors that you will have to consider while validating the idea of couple bikes?"
   ]
  },
  {
   "cell_type": "code",
   "execution_count": 64,
   "id": "fb105d95",
   "metadata": {},
   "outputs": [
    {
     "name": "stdout",
     "output_type": "stream",
     "text": [
      "Top 10 least popular stations are : \n",
      "San Francisco Caltrain (Townsend at 4th) 49092\n",
      "San Francisco Caltrain 2 (330 Townsend) 33742\n",
      "Harry Bridges Plaza (Ferry Building) 32934\n",
      "Embarcadero at Sansome 27713\n",
      "Temporary Transbay Terminal (Howard at Beale) 26089\n",
      "2nd at Townsend 25837\n",
      "Steuart at Market 24838\n",
      "Market at Sansome 24172\n",
      "Townsend at 7th 23724\n",
      "Market at 10th 20272\n"
     ]
    }
   ],
   "source": [
    "# Find the Top 10 popular stations\n",
    "cur.execute(\"select start_station_name, count(*) from trip group by start_station_name order by count(*) desc limit 10\")\n",
    "print(\"Top 10 least popular stations are : \")\n",
    "for row in cur.fetchall():\n",
    "    #print(\"************************************************************************************************************\")  \n",
    "    print(row[0], row[1])\n"
   ]
  },
  {
   "cell_type": "code",
   "execution_count": 65,
   "id": "b91aea2c",
   "metadata": {},
   "outputs": [
    {
     "name": "stdout",
     "output_type": "stream",
     "text": [
      "Top 10 least popular stations are where bikes are returned to same station: \n",
      "('Embarcadero at Sansome', 2092)\n",
      "('Harry Bridges Plaza (Ferry Building)', 1733)\n",
      "('University and Emerson', 894)\n",
      "('Market at 4th', 724)\n",
      "('2nd at Townsend', 683)\n",
      "('Steuart at Market', 668)\n",
      "('Market at 10th', 666)\n",
      "('Embarcadero at Vallejo', 620)\n",
      "('Powell at Post (Union Square)', 619)\n",
      "('Powell Street BART', 614)\n"
     ]
    }
   ],
   "source": [
    "# Identify the stations where bikes are returned to the same place\n",
    "cur.execute(\"select start_station_name, count(*) from trip where start_station_name=end_station_name group by start_station_name order by count(*) desc limit 10\")\n",
    "print(\"Top 10 least popular stations are where bikes are returned to same station: \")\n",
    "for row in cur.fetchall():\n",
    "    #print(\"************************************************************************************************************\")  \n",
    "    print(row)\n"
   ]
  },
  {
   "cell_type": "markdown",
   "id": "cbdbc27e",
   "metadata": {},
   "source": [
    "## Answer Task 4 \n",
    "\n",
    "Recommendation is to do a Trial for couple bikes in TOP 4 popular stations.\n",
    "\n",
    "The first four stations are very popular stations. So more users could be benefited.\n",
    "Also the last two stations are popular as well as bikes are returned to the same location.\n",
    "\n",
    "1. San Francisco Caltrain (Townsend at 4th) \n",
    "\n",
    "2. San Francisco Caltrain 2 (330 Townsend) \n",
    "\n",
    "3. Harry Bridges Plaza (Ferry Building) \n",
    "\n",
    "4. Embarcadero at Sansome \n",
    "\n"
   ]
  },
  {
   "cell_type": "markdown",
   "id": "89505b40",
   "metadata": {},
   "source": [
    "## Answer for Task 5 is in PPT - Bike Assignment Jagadish Janakiraman v1.0 01172022.pptx"
   ]
  }
 ],
 "metadata": {
  "kernelspec": {
   "display_name": "Python 3",
   "language": "python",
   "name": "python3"
  },
  "language_info": {
   "codemirror_mode": {
    "name": "ipython",
    "version": 3
   },
   "file_extension": ".py",
   "mimetype": "text/x-python",
   "name": "python",
   "nbconvert_exporter": "python",
   "pygments_lexer": "ipython3",
   "version": "3.8.8"
  }
 },
 "nbformat": 4,
 "nbformat_minor": 5
}
